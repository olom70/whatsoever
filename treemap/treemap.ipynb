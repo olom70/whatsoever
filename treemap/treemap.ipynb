{
 "cells": [
  {
   "cell_type": "markdown",
   "metadata": {},
   "source": [
    "Follow the tutorial on https://towardsdatascience.com/make-a-treemap-in-python-426cee6ee9b8"
   ]
  },
  {
   "cell_type": "code",
   "execution_count": 11,
   "metadata": {},
   "outputs": [],
   "source": [
    "import json\n",
    "from anytree import PostOrderIter\n",
    "from anytree.importer import DictImporter\n",
    "import ipywidgets as widgets\n",
    "import plotly.graph_objs as go\n",
    "import pandas as pd\n",
    "\n",
    "with open('flare.json') as f:\n",
    "    js_data = json.loads(f.read())\n",
    "\n",
    "importer = DictImporter()\n",
    "root = importer.import_(js_data)\n",
    "\n",
    "size = []\n",
    "name = []\n",
    "parent = []\n",
    "level = []\n",
    "\n",
    "def format(node):\n",
    "    for i in node.children:\n",
    "        if hasattr(i, 'value') == False:\n",
    "            format(i)\n",
    "        v = i.value\n",
    "        if hasattr(i.parent, 'value'):\n",
    "            i.parent.value += v\n",
    "        elif hasattr(i.parent, 'value') == False:\n",
    "            i.parent.value = v\n",
    "        \n",
    "        level.append(len(i.ancestors))\n",
    "        name.append(i.name)\n",
    "        parent.append(i.parent.name)\n",
    "        size.append(i.value)\n",
    "\n",
    "format(root)\n",
    "\n",
    "level.append(0) \n",
    "name.append(root.name) \n",
    "parent.append(\"\")\n",
    "size.append(root.value)\n",
    "\n"
   ]
  },
  {
   "cell_type": "code",
   "execution_count": 12,
   "metadata": {},
   "outputs": [
    {
     "data": {
      "application/vnd.plotly.v1+json": {
       "config": {
        "plotlyServerURL": "https://plot.ly"
       },
       "data": [
        {
         "labels": [
          "AgglomerativeCluster",
          "CommunityStructure",
          "HierarchicalCluster",
          "MergeEdge",
          "cluster",
          "BetweennessCentrality",
          "LinkDistance",
          "MaxFlowMinCut",
          "ShortestPaths",
          "SpanningTree",
          "graph",
          "AspectRatioBanker",
          "optimization",
          "analytics",
          "Easing",
          "FunctionSequence",
          "ArrayInterpolator",
          "ColorInterpolator",
          "DateInterpolator",
          "Interpolator",
          "MatrixInterpolator",
          "NumberInterpolator",
          "ObjectInterpolator",
          "PointInterpolator",
          "RectangleInterpolator",
          "interpolate",
          "ISchedulable",
          "Parallel",
          "Pause",
          "Scheduler",
          "Sequence",
          "Transition",
          "Transitioner",
          "TransitionEvent",
          "Tween",
          "animate",
          "Converters",
          "DelimitedTextConverter",
          "GraphMLConverter",
          "IDataConverter",
          "JSONConverter",
          "converters",
          "DataField",
          "DataSchema",
          "DataSet",
          "DataSource",
          "DataTable",
          "DataUtil",
          "data",
          "DirtySprite",
          "LineSprite",
          "RectSprite",
          "TextSprite",
          "display",
          "FlareVis",
          "flex",
          "DragForce",
          "GravityForce",
          "IForce",
          "NBodyForce",
          "Particle",
          "Simulation",
          "Spring",
          "SpringForce",
          "physics",
          "AggregateExpression",
          "And",
          "Arithmetic",
          "Average",
          "BinaryExpression",
          "Comparison",
          "CompositeExpression",
          "Count",
          "DateUtil",
          "Distinct",
          "Expression",
          "ExpressionIterator",
          "Fn",
          "If",
          "IsA",
          "Literal",
          "Match",
          "Maximum",
          "add",
          "and",
          "average",
          "count",
          "distinct",
          "div",
          "eq",
          "fn",
          "gt",
          "gte",
          "iff",
          "isa",
          "lt",
          "lte",
          "max",
          "min",
          "mod",
          "mul",
          "neq",
          "not",
          "or",
          "orderby",
          "range",
          "select",
          "stddev",
          "sub",
          "sum",
          "update",
          "variance",
          "where",
          "xor",
          "_",
          "methods",
          "Minimum",
          "Not",
          "Or",
          "Query",
          "Range",
          "StringUtil",
          "Sum",
          "Variable",
          "Variance",
          "Xor",
          "query",
          "IScaleMap",
          "LinearScale",
          "LogScale",
          "OrdinalScale",
          "QuantileScale",
          "QuantitativeScale",
          "RootScale",
          "Scale",
          "ScaleType",
          "TimeScale",
          "scale",
          "Arrays",
          "Colors",
          "Dates",
          "Displays",
          "Filter",
          "Geometry",
          "FibonacciHeap",
          "HeapNode",
          "heap",
          "IEvaluable",
          "IPredicate",
          "IValueProxy",
          "DenseMatrix",
          "IMatrix",
          "SparseMatrix",
          "math",
          "Maths",
          "Orientation",
          "ColorPalette",
          "Palette",
          "ShapePalette",
          "SizePalette",
          "palette",
          "Property",
          "Shapes",
          "Sort",
          "Stats",
          "Strings",
          "util",
          "Axes",
          "Axis",
          "AxisGridLine",
          "AxisLabel",
          "CartesianAxes",
          "axis",
          "AnchorControl",
          "ClickControl",
          "Control",
          "ControlList",
          "DragControl",
          "ExpandControl",
          "HoverControl",
          "IControl",
          "PanZoomControl",
          "SelectionControl",
          "TooltipControl",
          "controls",
          "Data",
          "DataList",
          "DataSprite",
          "EdgeSprite",
          "NodeSprite",
          "ArrowType",
          "EdgeRenderer",
          "IRenderer",
          "ShapeRenderer",
          "render",
          "ScaleBinding",
          "Tree",
          "TreeBuilder",
          "data1",
          "DataEvent",
          "SelectionEvent",
          "TooltipEvent",
          "VisualizationEvent",
          "events",
          "Legend",
          "LegendItem",
          "LegendRange",
          "legend",
          "BifocalDistortion",
          "Distortion",
          "FisheyeDistortion",
          "distortion",
          "ColorEncoder",
          "Encoder",
          "PropertyEncoder",
          "ShapeEncoder",
          "SizeEncoder",
          "encoder",
          "FisheyeTreeFilter",
          "GraphDistanceFilter",
          "VisibilityFilter",
          "filter",
          "IOperator",
          "Labeler",
          "RadialLabeler",
          "StackedAreaLabeler",
          "label",
          "AxisLayout",
          "BundledEdgeRouter",
          "CircleLayout",
          "CirclePackingLayout",
          "DendrogramLayout",
          "ForceDirectedLayout",
          "IcicleTreeLayout",
          "IndentedTreeLayout",
          "Layout",
          "NodeLinkTreeLayout",
          "PieLayout",
          "RadialTreeLayout",
          "RandomLayout",
          "StackedAreaLayout",
          "TreeMapLayout",
          "layout",
          "Operator",
          "OperatorList",
          "OperatorSequence",
          "OperatorSwitch",
          "SortOperator",
          "operator",
          "Visualization",
          "vis",
          "flare"
         ],
         "parents": [
          "cluster",
          "cluster",
          "cluster",
          "cluster",
          "analytics",
          "graph",
          "graph",
          "graph",
          "graph",
          "graph",
          "analytics",
          "optimization",
          "analytics",
          "flare",
          "animate",
          "animate",
          "interpolate",
          "interpolate",
          "interpolate",
          "interpolate",
          "interpolate",
          "interpolate",
          "interpolate",
          "interpolate",
          "interpolate",
          "animate",
          "animate",
          "animate",
          "animate",
          "animate",
          "animate",
          "animate",
          "animate",
          "animate",
          "animate",
          "flare",
          "converters",
          "converters",
          "converters",
          "converters",
          "converters",
          "data",
          "data",
          "data",
          "data",
          "data",
          "data",
          "data",
          "flare",
          "display",
          "display",
          "display",
          "display",
          "flare",
          "flex",
          "flare",
          "physics",
          "physics",
          "physics",
          "physics",
          "physics",
          "physics",
          "physics",
          "physics",
          "flare",
          "query",
          "query",
          "query",
          "query",
          "query",
          "query",
          "query",
          "query",
          "query",
          "query",
          "query",
          "query",
          "query",
          "query",
          "query",
          "query",
          "query",
          "query",
          "methods",
          "methods",
          "methods",
          "methods",
          "methods",
          "methods",
          "methods",
          "methods",
          "methods",
          "methods",
          "methods",
          "methods",
          "methods",
          "methods",
          "methods",
          "methods",
          "methods",
          "methods",
          "methods",
          "methods",
          "methods",
          "methods",
          "methods",
          "methods",
          "methods",
          "methods",
          "methods",
          "methods",
          "methods",
          "methods",
          "methods",
          "methods",
          "query",
          "query",
          "query",
          "query",
          "query",
          "query",
          "query",
          "query",
          "query",
          "query",
          "query",
          "flare",
          "scale",
          "scale",
          "scale",
          "scale",
          "scale",
          "scale",
          "scale",
          "scale",
          "scale",
          "scale",
          "flare",
          "util",
          "util",
          "util",
          "util",
          "util",
          "util",
          "heap",
          "heap",
          "util",
          "util",
          "util",
          "util",
          "math",
          "math",
          "math",
          "util",
          "util",
          "util",
          "palette",
          "palette",
          "palette",
          "palette",
          "util",
          "util",
          "util",
          "util",
          "util",
          "util",
          "flare",
          "axis",
          "axis",
          "axis",
          "axis",
          "axis",
          "vis",
          "controls",
          "controls",
          "controls",
          "controls",
          "controls",
          "controls",
          "controls",
          "controls",
          "controls",
          "controls",
          "controls",
          "vis",
          "data1",
          "data1",
          "data1",
          "data1",
          "data1",
          "render",
          "render",
          "render",
          "render",
          "data1",
          "data1",
          "data1",
          "data1",
          "vis",
          "events",
          "events",
          "events",
          "events",
          "vis",
          "legend",
          "legend",
          "legend",
          "vis",
          "distortion",
          "distortion",
          "distortion",
          "operator",
          "encoder",
          "encoder",
          "encoder",
          "encoder",
          "encoder",
          "operator",
          "filter",
          "filter",
          "filter",
          "operator",
          "operator",
          "label",
          "label",
          "label",
          "operator",
          "layout",
          "layout",
          "layout",
          "layout",
          "layout",
          "layout",
          "layout",
          "layout",
          "layout",
          "layout",
          "layout",
          "layout",
          "layout",
          "layout",
          "layout",
          "operator",
          "operator",
          "operator",
          "operator",
          "operator",
          "operator",
          "vis",
          "vis",
          "flare",
          ""
         ],
         "type": "treemap",
         "values": [
          3938,
          3812,
          6714,
          743,
          15207,
          3534,
          5731,
          7840,
          5914,
          3416,
          26435,
          7074,
          7074,
          48716,
          17010,
          5842,
          1983,
          2047,
          1375,
          8746,
          2202,
          1382,
          1629,
          1675,
          2042,
          23081,
          1041,
          5176,
          449,
          5593,
          5534,
          9201,
          19975,
          1116,
          6006,
          100024,
          721,
          4294,
          9800,
          1314,
          2220,
          18349,
          1759,
          2165,
          586,
          3331,
          772,
          3322,
          30284,
          8833,
          1732,
          3623,
          10066,
          24254,
          4116,
          4116,
          1082,
          1336,
          319,
          10498,
          2822,
          9983,
          2213,
          1681,
          29934,
          1616,
          1027,
          3891,
          891,
          2893,
          5103,
          3677,
          781,
          4141,
          933,
          5130,
          3617,
          3240,
          2732,
          2039,
          1214,
          3748,
          843,
          593,
          330,
          287,
          277,
          292,
          595,
          594,
          460,
          603,
          625,
          748,
          461,
          597,
          619,
          283,
          283,
          591,
          603,
          599,
          386,
          323,
          307,
          772,
          296,
          363,
          600,
          280,
          307,
          335,
          299,
          354,
          264,
          14326,
          843,
          1554,
          970,
          13896,
          1594,
          4130,
          791,
          1124,
          1876,
          1101,
          89721,
          2105,
          1316,
          3151,
          3770,
          2435,
          4839,
          1756,
          4268,
          1821,
          5833,
          31294,
          8258,
          10001,
          8217,
          12555,
          2324,
          10993,
          9354,
          1233,
          10587,
          335,
          383,
          874,
          3165,
          2815,
          3366,
          9346,
          17705,
          1486,
          6367,
          1229,
          2059,
          2291,
          11946,
          5559,
          19118,
          6887,
          6557,
          22026,
          165157,
          1302,
          24593,
          652,
          636,
          6703,
          33886,
          2138,
          3824,
          1353,
          4665,
          2649,
          2832,
          4896,
          763,
          5222,
          7862,
          8435,
          44639,
          20544,
          19788,
          10349,
          3301,
          19382,
          698,
          5569,
          353,
          2247,
          8867,
          11275,
          7147,
          9930,
          110583,
          2313,
          1880,
          1701,
          1117,
          7011,
          20859,
          4614,
          10530,
          36003,
          4461,
          6314,
          3444,
          14219,
          3179,
          4060,
          4138,
          1690,
          1830,
          14897,
          5219,
          3165,
          3509,
          11893,
          1286,
          9956,
          3899,
          3202,
          17057,
          6725,
          3727,
          9317,
          12003,
          4853,
          8411,
          4864,
          3174,
          7881,
          12870,
          2728,
          12348,
          870,
          9121,
          9191,
          108083,
          2490,
          5248,
          4190,
          2581,
          2023,
          183967,
          16540,
          432629,
          956129
         ]
        }
       ],
       "layout": {
        "template": {
         "data": {
          "bar": [
           {
            "error_x": {
             "color": "#2a3f5f"
            },
            "error_y": {
             "color": "#2a3f5f"
            },
            "marker": {
             "line": {
              "color": "#E5ECF6",
              "width": 0.5
             },
             "pattern": {
              "fillmode": "overlay",
              "size": 10,
              "solidity": 0.2
             }
            },
            "type": "bar"
           }
          ],
          "barpolar": [
           {
            "marker": {
             "line": {
              "color": "#E5ECF6",
              "width": 0.5
             },
             "pattern": {
              "fillmode": "overlay",
              "size": 10,
              "solidity": 0.2
             }
            },
            "type": "barpolar"
           }
          ],
          "carpet": [
           {
            "aaxis": {
             "endlinecolor": "#2a3f5f",
             "gridcolor": "white",
             "linecolor": "white",
             "minorgridcolor": "white",
             "startlinecolor": "#2a3f5f"
            },
            "baxis": {
             "endlinecolor": "#2a3f5f",
             "gridcolor": "white",
             "linecolor": "white",
             "minorgridcolor": "white",
             "startlinecolor": "#2a3f5f"
            },
            "type": "carpet"
           }
          ],
          "choropleth": [
           {
            "colorbar": {
             "outlinewidth": 0,
             "ticks": ""
            },
            "type": "choropleth"
           }
          ],
          "contour": [
           {
            "colorbar": {
             "outlinewidth": 0,
             "ticks": ""
            },
            "colorscale": [
             [
              0,
              "#0d0887"
             ],
             [
              0.1111111111111111,
              "#46039f"
             ],
             [
              0.2222222222222222,
              "#7201a8"
             ],
             [
              0.3333333333333333,
              "#9c179e"
             ],
             [
              0.4444444444444444,
              "#bd3786"
             ],
             [
              0.5555555555555556,
              "#d8576b"
             ],
             [
              0.6666666666666666,
              "#ed7953"
             ],
             [
              0.7777777777777778,
              "#fb9f3a"
             ],
             [
              0.8888888888888888,
              "#fdca26"
             ],
             [
              1,
              "#f0f921"
             ]
            ],
            "type": "contour"
           }
          ],
          "contourcarpet": [
           {
            "colorbar": {
             "outlinewidth": 0,
             "ticks": ""
            },
            "type": "contourcarpet"
           }
          ],
          "heatmap": [
           {
            "colorbar": {
             "outlinewidth": 0,
             "ticks": ""
            },
            "colorscale": [
             [
              0,
              "#0d0887"
             ],
             [
              0.1111111111111111,
              "#46039f"
             ],
             [
              0.2222222222222222,
              "#7201a8"
             ],
             [
              0.3333333333333333,
              "#9c179e"
             ],
             [
              0.4444444444444444,
              "#bd3786"
             ],
             [
              0.5555555555555556,
              "#d8576b"
             ],
             [
              0.6666666666666666,
              "#ed7953"
             ],
             [
              0.7777777777777778,
              "#fb9f3a"
             ],
             [
              0.8888888888888888,
              "#fdca26"
             ],
             [
              1,
              "#f0f921"
             ]
            ],
            "type": "heatmap"
           }
          ],
          "heatmapgl": [
           {
            "colorbar": {
             "outlinewidth": 0,
             "ticks": ""
            },
            "colorscale": [
             [
              0,
              "#0d0887"
             ],
             [
              0.1111111111111111,
              "#46039f"
             ],
             [
              0.2222222222222222,
              "#7201a8"
             ],
             [
              0.3333333333333333,
              "#9c179e"
             ],
             [
              0.4444444444444444,
              "#bd3786"
             ],
             [
              0.5555555555555556,
              "#d8576b"
             ],
             [
              0.6666666666666666,
              "#ed7953"
             ],
             [
              0.7777777777777778,
              "#fb9f3a"
             ],
             [
              0.8888888888888888,
              "#fdca26"
             ],
             [
              1,
              "#f0f921"
             ]
            ],
            "type": "heatmapgl"
           }
          ],
          "histogram": [
           {
            "marker": {
             "pattern": {
              "fillmode": "overlay",
              "size": 10,
              "solidity": 0.2
             }
            },
            "type": "histogram"
           }
          ],
          "histogram2d": [
           {
            "colorbar": {
             "outlinewidth": 0,
             "ticks": ""
            },
            "colorscale": [
             [
              0,
              "#0d0887"
             ],
             [
              0.1111111111111111,
              "#46039f"
             ],
             [
              0.2222222222222222,
              "#7201a8"
             ],
             [
              0.3333333333333333,
              "#9c179e"
             ],
             [
              0.4444444444444444,
              "#bd3786"
             ],
             [
              0.5555555555555556,
              "#d8576b"
             ],
             [
              0.6666666666666666,
              "#ed7953"
             ],
             [
              0.7777777777777778,
              "#fb9f3a"
             ],
             [
              0.8888888888888888,
              "#fdca26"
             ],
             [
              1,
              "#f0f921"
             ]
            ],
            "type": "histogram2d"
           }
          ],
          "histogram2dcontour": [
           {
            "colorbar": {
             "outlinewidth": 0,
             "ticks": ""
            },
            "colorscale": [
             [
              0,
              "#0d0887"
             ],
             [
              0.1111111111111111,
              "#46039f"
             ],
             [
              0.2222222222222222,
              "#7201a8"
             ],
             [
              0.3333333333333333,
              "#9c179e"
             ],
             [
              0.4444444444444444,
              "#bd3786"
             ],
             [
              0.5555555555555556,
              "#d8576b"
             ],
             [
              0.6666666666666666,
              "#ed7953"
             ],
             [
              0.7777777777777778,
              "#fb9f3a"
             ],
             [
              0.8888888888888888,
              "#fdca26"
             ],
             [
              1,
              "#f0f921"
             ]
            ],
            "type": "histogram2dcontour"
           }
          ],
          "mesh3d": [
           {
            "colorbar": {
             "outlinewidth": 0,
             "ticks": ""
            },
            "type": "mesh3d"
           }
          ],
          "parcoords": [
           {
            "line": {
             "colorbar": {
              "outlinewidth": 0,
              "ticks": ""
             }
            },
            "type": "parcoords"
           }
          ],
          "pie": [
           {
            "automargin": true,
            "type": "pie"
           }
          ],
          "scatter": [
           {
            "fillpattern": {
             "fillmode": "overlay",
             "size": 10,
             "solidity": 0.2
            },
            "type": "scatter"
           }
          ],
          "scatter3d": [
           {
            "line": {
             "colorbar": {
              "outlinewidth": 0,
              "ticks": ""
             }
            },
            "marker": {
             "colorbar": {
              "outlinewidth": 0,
              "ticks": ""
             }
            },
            "type": "scatter3d"
           }
          ],
          "scattercarpet": [
           {
            "marker": {
             "colorbar": {
              "outlinewidth": 0,
              "ticks": ""
             }
            },
            "type": "scattercarpet"
           }
          ],
          "scattergeo": [
           {
            "marker": {
             "colorbar": {
              "outlinewidth": 0,
              "ticks": ""
             }
            },
            "type": "scattergeo"
           }
          ],
          "scattergl": [
           {
            "marker": {
             "colorbar": {
              "outlinewidth": 0,
              "ticks": ""
             }
            },
            "type": "scattergl"
           }
          ],
          "scattermapbox": [
           {
            "marker": {
             "colorbar": {
              "outlinewidth": 0,
              "ticks": ""
             }
            },
            "type": "scattermapbox"
           }
          ],
          "scatterpolar": [
           {
            "marker": {
             "colorbar": {
              "outlinewidth": 0,
              "ticks": ""
             }
            },
            "type": "scatterpolar"
           }
          ],
          "scatterpolargl": [
           {
            "marker": {
             "colorbar": {
              "outlinewidth": 0,
              "ticks": ""
             }
            },
            "type": "scatterpolargl"
           }
          ],
          "scatterternary": [
           {
            "marker": {
             "colorbar": {
              "outlinewidth": 0,
              "ticks": ""
             }
            },
            "type": "scatterternary"
           }
          ],
          "surface": [
           {
            "colorbar": {
             "outlinewidth": 0,
             "ticks": ""
            },
            "colorscale": [
             [
              0,
              "#0d0887"
             ],
             [
              0.1111111111111111,
              "#46039f"
             ],
             [
              0.2222222222222222,
              "#7201a8"
             ],
             [
              0.3333333333333333,
              "#9c179e"
             ],
             [
              0.4444444444444444,
              "#bd3786"
             ],
             [
              0.5555555555555556,
              "#d8576b"
             ],
             [
              0.6666666666666666,
              "#ed7953"
             ],
             [
              0.7777777777777778,
              "#fb9f3a"
             ],
             [
              0.8888888888888888,
              "#fdca26"
             ],
             [
              1,
              "#f0f921"
             ]
            ],
            "type": "surface"
           }
          ],
          "table": [
           {
            "cells": {
             "fill": {
              "color": "#EBF0F8"
             },
             "line": {
              "color": "white"
             }
            },
            "header": {
             "fill": {
              "color": "#C8D4E3"
             },
             "line": {
              "color": "white"
             }
            },
            "type": "table"
           }
          ]
         },
         "layout": {
          "annotationdefaults": {
           "arrowcolor": "#2a3f5f",
           "arrowhead": 0,
           "arrowwidth": 1
          },
          "autotypenumbers": "strict",
          "coloraxis": {
           "colorbar": {
            "outlinewidth": 0,
            "ticks": ""
           }
          },
          "colorscale": {
           "diverging": [
            [
             0,
             "#8e0152"
            ],
            [
             0.1,
             "#c51b7d"
            ],
            [
             0.2,
             "#de77ae"
            ],
            [
             0.3,
             "#f1b6da"
            ],
            [
             0.4,
             "#fde0ef"
            ],
            [
             0.5,
             "#f7f7f7"
            ],
            [
             0.6,
             "#e6f5d0"
            ],
            [
             0.7,
             "#b8e186"
            ],
            [
             0.8,
             "#7fbc41"
            ],
            [
             0.9,
             "#4d9221"
            ],
            [
             1,
             "#276419"
            ]
           ],
           "sequential": [
            [
             0,
             "#0d0887"
            ],
            [
             0.1111111111111111,
             "#46039f"
            ],
            [
             0.2222222222222222,
             "#7201a8"
            ],
            [
             0.3333333333333333,
             "#9c179e"
            ],
            [
             0.4444444444444444,
             "#bd3786"
            ],
            [
             0.5555555555555556,
             "#d8576b"
            ],
            [
             0.6666666666666666,
             "#ed7953"
            ],
            [
             0.7777777777777778,
             "#fb9f3a"
            ],
            [
             0.8888888888888888,
             "#fdca26"
            ],
            [
             1,
             "#f0f921"
            ]
           ],
           "sequentialminus": [
            [
             0,
             "#0d0887"
            ],
            [
             0.1111111111111111,
             "#46039f"
            ],
            [
             0.2222222222222222,
             "#7201a8"
            ],
            [
             0.3333333333333333,
             "#9c179e"
            ],
            [
             0.4444444444444444,
             "#bd3786"
            ],
            [
             0.5555555555555556,
             "#d8576b"
            ],
            [
             0.6666666666666666,
             "#ed7953"
            ],
            [
             0.7777777777777778,
             "#fb9f3a"
            ],
            [
             0.8888888888888888,
             "#fdca26"
            ],
            [
             1,
             "#f0f921"
            ]
           ]
          },
          "colorway": [
           "#636efa",
           "#EF553B",
           "#00cc96",
           "#ab63fa",
           "#FFA15A",
           "#19d3f3",
           "#FF6692",
           "#B6E880",
           "#FF97FF",
           "#FECB52"
          ],
          "font": {
           "color": "#2a3f5f"
          },
          "geo": {
           "bgcolor": "white",
           "lakecolor": "white",
           "landcolor": "#E5ECF6",
           "showlakes": true,
           "showland": true,
           "subunitcolor": "white"
          },
          "hoverlabel": {
           "align": "left"
          },
          "hovermode": "closest",
          "mapbox": {
           "style": "light"
          },
          "paper_bgcolor": "white",
          "plot_bgcolor": "#E5ECF6",
          "polar": {
           "angularaxis": {
            "gridcolor": "white",
            "linecolor": "white",
            "ticks": ""
           },
           "bgcolor": "#E5ECF6",
           "radialaxis": {
            "gridcolor": "white",
            "linecolor": "white",
            "ticks": ""
           }
          },
          "scene": {
           "xaxis": {
            "backgroundcolor": "#E5ECF6",
            "gridcolor": "white",
            "gridwidth": 2,
            "linecolor": "white",
            "showbackground": true,
            "ticks": "",
            "zerolinecolor": "white"
           },
           "yaxis": {
            "backgroundcolor": "#E5ECF6",
            "gridcolor": "white",
            "gridwidth": 2,
            "linecolor": "white",
            "showbackground": true,
            "ticks": "",
            "zerolinecolor": "white"
           },
           "zaxis": {
            "backgroundcolor": "#E5ECF6",
            "gridcolor": "white",
            "gridwidth": 2,
            "linecolor": "white",
            "showbackground": true,
            "ticks": "",
            "zerolinecolor": "white"
           }
          },
          "shapedefaults": {
           "line": {
            "color": "#2a3f5f"
           }
          },
          "ternary": {
           "aaxis": {
            "gridcolor": "white",
            "linecolor": "white",
            "ticks": ""
           },
           "baxis": {
            "gridcolor": "white",
            "linecolor": "white",
            "ticks": ""
           },
           "bgcolor": "#E5ECF6",
           "caxis": {
            "gridcolor": "white",
            "linecolor": "white",
            "ticks": ""
           }
          },
          "title": {
           "x": 0.05
          },
          "xaxis": {
           "automargin": true,
           "gridcolor": "white",
           "linecolor": "white",
           "ticks": "",
           "title": {
            "standoff": 15
           },
           "zerolinecolor": "white",
           "zerolinewidth": 2
          },
          "yaxis": {
           "automargin": true,
           "gridcolor": "white",
           "linecolor": "white",
           "ticks": "",
           "title": {
            "standoff": 15
           },
           "zerolinecolor": "white",
           "zerolinewidth": 2
          }
         }
        }
       }
      }
     },
     "metadata": {},
     "output_type": "display_data"
    }
   ],
   "source": [
    "#create plotly figure \n",
    "fig = go.Figure() \n",
    "fig.add_trace(go.Treemap( \n",
    "   labels = name, \n",
    "   parents = parent, \n",
    "   values = size \n",
    "))#show figure \n",
    "fig.show() "
   ]
  }
 ],
 "metadata": {
  "kernelspec": {
   "display_name": "Python 3.10.4 ('.venv': venv)",
   "language": "python",
   "name": "python3"
  },
  "language_info": {
   "codemirror_mode": {
    "name": "ipython",
    "version": 3
   },
   "file_extension": ".py",
   "mimetype": "text/x-python",
   "name": "python",
   "nbconvert_exporter": "python",
   "pygments_lexer": "ipython3",
   "version": "3.10.4"
  },
  "orig_nbformat": 4,
  "vscode": {
   "interpreter": {
    "hash": "ca783b2caa42b70f02dde92795a3d833daac3d2bf5454c17756c34b869968ca9"
   }
  }
 },
 "nbformat": 4,
 "nbformat_minor": 2
}
